{
 "cells": [
  {
   "cell_type": "markdown",
   "metadata": {
    "collapsed": true,
    "pycharm": {
     "name": "#%% md\n"
    }
   },
   "source": [
    "#### TMA4205 Numerical Linear Algebra\n",
    "# Project Part 2\n",
    "## Introduction\n",
    "\n",
    "In this part we want to find a low rank continuous approximation to a continuous matrix valued function."
   ]
  },
  {
   "cell_type": "code",
   "execution_count": null,
   "outputs": [],
   "source": [
    "import numpy as np\n",
    "# %load_ext autoreload\n",
    "# %autoreload 2\n",
    "\n",
    "# imports and useful functions\n",
    "import matplotlib.pyplot as plt\n",
    "\n",
    "# line cyclers adapted to colourblind people\n",
    "from cycler import cycler\n",
    "\n",
    "line_cycler = (cycler(color=[\"#E69F00\", \"#56B4E9\", \"#009E73\", \"#0072B2\", \"#D55E00\", \"#CC79A7\", \"#F0E442\"]) +\n",
    "               cycler(linestyle=[\"-\", \"--\", \"-.\", \":\", \"-\", \"--\", \"-.\"]))\n",
    "plt.rc(\"axes\", prop_cycle=line_cycler)\n",
    "plt.rc('axes', axisbelow=True)"
   ],
   "metadata": {
    "collapsed": false,
    "pycharm": {
     "name": "#%%\n"
    }
   }
  },
  {
   "cell_type": "code",
   "execution_count": null,
   "outputs": [],
   "source": [
    "\"\"\"First define some useful functions for plotting and testing\"\"\"\n",
    "from linalg.plotting import *"
   ],
   "metadata": {
    "collapsed": false,
    "pycharm": {
     "name": "#%%\n"
    }
   }
  },
  {
   "cell_type": "markdown",
   "source": [
    "## Exercise 1:\n",
    "We implement Lanczos bidiagonalization method with and without re-orthogonalization."
   ],
   "metadata": {
    "collapsed": false,
    "pycharm": {
     "name": "#%% md\n"
    }
   }
  },
  {
   "cell_type": "code",
   "execution_count": null,
   "outputs": [],
   "source": [
    "from linalg.bidiagonalization import lanczos_bidiag, lanczos_bidiag_reorth"
   ],
   "metadata": {
    "collapsed": false,
    "pycharm": {
     "name": "#%%\n"
    }
   }
  },
  {
   "cell_type": "markdown",
   "source": [
    "Make 3 randomly generated matrices $A_n \\in \\mathbb{R}^{n\\times n} $, $n \\in [32,64,128]$.\n",
    "Then we show their eigenvalues."
   ],
   "metadata": {
    "collapsed": false,
    "pycharm": {
     "name": "#%% md\n"
    }
   }
  },
  {
   "cell_type": "code",
   "execution_count": null,
   "outputs": [],
   "source": [
    "# make matrices\n",
    "n_list = [32, 64, 128]\n",
    "A_list = [np.random.rand(n, n) * 2 - 1 for n in n_list]\n",
    "\n",
    "# plot their eigenvalues\n",
    "fig, axs = plt.subplots(ncols=len(n_list), sharey=True, figsize=(15, 5))\n",
    "fig.suptitle(\"Eigenvalues\")\n",
    "for A, ax, n in zip(A_list, axs, n_list):\n",
    "    eigenvals, _ = np.linalg.eig(A)\n",
    "    ax.scatter(eigenvals.real, eigenvals.imag)\n",
    "    ax.grid()\n",
    "    ax.set_xlabel(\"1\")\n",
    "    ax.set_ylabel(\"i\")\n",
    "    ax.set_title(f\"n={n}\")"
   ],
   "metadata": {
    "collapsed": false,
    "pycharm": {
     "name": "#%%\n"
    }
   }
  },
  {
   "cell_type": "markdown",
   "source": [
    "Now we approximate the matrix $A_n$ with different approximation methods.\n",
    "The truncated SVD gives the best approximation matrix of rank $k \\leq$ (in Frobenius norm).\n",
    "For all $k \\leq n$ compare the best approximation with Lanczos bidiagonalization method, with and without re-orthogonalization.\n",
    "\n",
    "We also measure the orthogonality error with the method from [5]:\n",
    "\n",
    "$\n",
    "\\begin{equation}\n",
    "    \\eta(U) :=  ||I -U^T U||_F\n",
    "\\end{equation}\n",
    "$\n",
    "\n",
    "For each $k$ we also show this error for bidiagonalization with and whit orthogonality.\n",
    "\n"
   ],
   "metadata": {
    "collapsed": false
   }
  },
  {
   "cell_type": "code",
   "source": [
    "from linalg.helpers import get_best_approx, make_bidiagonal\n",
    "\n",
    "fig, axs = plt.subplots(ncols=len(n_list), figsize=(15, 5))\n",
    "fig.suptitle(\"Error approximation methods of rank $k$ \")\n",
    "\n",
    "orth_fig, orth_axs = plt.subplots(ncols=len(n_list), sharey=True, figsize=(15, 5))\n",
    "orth_fig.suptitle(\"Orthogonalization error for bidiagonalization of rank $k$\")\n",
    "orth_axs[0].set_ylabel(\"$||I - Q^{T}Q||_F$\")\n",
    "for A, n, ax, orth_ax in zip(A_list, n_list, axs, orth_axs):\n",
    "    best_approx_error = np.zeros(n)\n",
    "    bidiagonal_error = np.zeros(n)\n",
    "    bidiagonal_reorth_error = np.zeros(n)\n",
    "\n",
    "    # error: [P, Q, P_reorth, Q_reorth]\n",
    "    reorth_error = np.zeros((n, 4))\n",
    "\n",
    "    k_list = np.arange(1, n + 1)\n",
    "    for i, k in enumerate(range(1, n + 1)):\n",
    "        b = np.random.rand(n)\n",
    "        P, Q, alpha, beta = lanczos_bidiag(A, k, b)\n",
    "        B = make_bidiagonal(alpha, beta)\n",
    "        bidiagonal_error[i] = np.linalg.norm(A - P @ B @ Q.T, ord=\"fro\")\n",
    "        reorth_error[i, 0] = np.linalg.norm(np.eye(k) - P.T @ P, ord=\"fro\")\n",
    "        reorth_error[i, 1] = np.linalg.norm(np.eye(k) - Q.T @ Q, ord=\"fro\")\n",
    "\n",
    "        P, Q, alpha, beta = lanczos_bidiag_reorth(A, k, b)\n",
    "        B = make_bidiagonal(alpha, beta)\n",
    "        bidiagonal_reorth_error[i] = np.linalg.norm(A - P @ B @ Q.T, ord=\"fro\")\n",
    "        reorth_error[i, 2] = np.linalg.norm(np.eye(k) - P.T @ P, ord=\"fro\")\n",
    "        reorth_error[i, 3] = np.linalg.norm(np.eye(k) - Q.T @ Q, ord=\"fro\")\n",
    "\n",
    "        A_k = get_best_approx(A, k)\n",
    "        best_approx_error[i] = np.linalg.norm(A - A_k, ord=\"fro\")\n",
    "\n",
    "    ax.plot(k_list, best_approx_error, label=\"best approximation\")\n",
    "    ax.plot(k_list, bidiagonal_error, label=\"bidiagonalization\")\n",
    "    ax.plot(k_list, bidiagonal_reorth_error, label=\"bidiag. with reorth.\")\n",
    "    ax.set_xlabel(\"$k$\")\n",
    "    ax.set_title(f\"$n={n}$\")\n",
    "    ax.legend()\n",
    "\n",
    "    #plot orthogonality error\n",
    "    orth_ax.semilogy(k_list, reorth_error[:, 0], label=\"P\")\n",
    "    orth_ax.semilogy(k_list, reorth_error[:, 1], label=\"Q\")\n",
    "    orth_ax.semilogy(k_list, reorth_error[:, 2], label=\"P with reorth.\")\n",
    "    orth_ax.semilogy(k_list, reorth_error[:, 3], label=\"Q with reorth.\")\n",
    "    orth_ax.set_xlabel(\"$k$\")\n",
    "    orth_ax.set_title(f\"$n={n}$\")\n",
    "    orth_ax.legend()\n"
   ],
   "metadata": {
    "collapsed": false,
    "pycharm": {
     "name": "#%%\n"
    }
   },
   "execution_count": null,
   "outputs": []
  },
  {
   "cell_type": "markdown",
   "source": [
    "From figures above we see that bidiagonalization without re-orthogonalization does not give good approximations for large $k$.\n",
    "The reason for this is that numerical instability makes the columns of $Q$ and $P$ not orthonormal."
   ],
   "metadata": {
    "collapsed": false
   }
  },
  {
   "cell_type": "markdown",
   "source": [
    "## Exercise 2"
   ],
   "metadata": {
    "collapsed": false
   }
  },
  {
   "cell_type": "markdown",
   "source": [
    "insert"
   ],
   "metadata": {
    "collapsed": false
   }
  },
  {
   "cell_type": "markdown",
   "source": [
    "insert"
   ],
   "metadata": {
    "collapsed": false,
    "pycharm": {
     "name": "#%% md\n"
    }
   }
  }
 ],
 "metadata": {
  "kernelspec": {
   "display_name": "Python 3",
   "language": "python",
   "name": "python3"
  },
  "language_info": {
   "codemirror_mode": {
    "name": "ipython",
    "version": 2
   },
   "file_extension": ".py",
   "mimetype": "text/x-python",
   "name": "python",
   "nbconvert_exporter": "python",
   "pygments_lexer": "ipython2",
   "version": "2.7.6"
  }
 },
 "nbformat": 4,
 "nbformat_minor": 0
}