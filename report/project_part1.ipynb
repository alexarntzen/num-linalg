{
 "cells": [
  {
   "cell_type": "markdown",
   "source": [
    "#### TMA4205 Numerical Linear Algebra\n",
    "# Project Part 1\n",
    "## Introduction\n",
    "\n",
    "In this project we solve the 2D Poisson equation\n",
    "\n",
    "\\begin{aligned}\n",
    "\\Delta u  &= f \\quad \\text{on} \\quad D = [0,1]^2 \\\\\n",
    "u &= g  \\quad \\text{on} \\quad \\partial D\n",
    "\\end{aligned}\n",
    "\n",
    "numerically. The equation is discretized  as a finite difference scheme using the five point stencil.\n",
    "For each dimension we use $N+1$ nodes distance $h:=1/N$ from each other.\n",
    "\n",
    "The discretization of the Poisson equation results in a system of linear equations.\n",
    "We then solve the linear system by three different methods: conjugate gradient, multigrid and multigrid preconditioned conjugate gradient.\n",
    "Specifically, a method working directly on the gridnodes will be used.\n",
    "Thus, we need not store the discrete Laplacian operator.\n",
    "\n",
    "In this project $\\frac{||r_k||_2}{||r_0||_2} < 10^{-12}$ will be used as a convergence criterion for outer iterations for all algorithms. Here $r_k$ is the residual of the linear system after $k$ iterations of the algorithm.\n",
    "Thus, in convergence plots the quantity $\\frac{||r_k||_2}{||r_0||_2}$ is shown.\n"
   ],
   "metadata": {
    "collapsed": false
   }
  },
  {
   "cell_type": "code",
   "source": [
    "%load_ext autoreload\n",
    "%autoreload 2\n",
    "\n",
    "# imports and useful functions\n",
    "import matplotlib.pyplot as plt\n",
    "\n",
    "# line cyclers adapted to colourblind people\n",
    "from cycler import cycler\n",
    "\n",
    "line_cycler = (cycler(color=[\"#E69F00\", \"#56B4E9\", \"#009E73\", \"#0072B2\", \"#D55E00\", \"#CC79A7\", \"#F0E442\"]) +\n",
    "               cycler(linestyle=[\"-\", \"--\", \"-.\", \":\", \"-\", \"--\", \"-.\"]))\n",
    "plt.rc(\"axes\", prop_cycle=line_cycler)\n",
    "plt.rc('axes', axisbelow=True)"
   ],
   "metadata": {
    "collapsed": false,
    "pycharm": {
     "name": "#%%\n"
    }
   },
   "execution_count": null,
   "outputs": []
  },
  {
   "cell_type": "code",
   "execution_count": null,
   "outputs": [],
   "source": [
    "\"\"\"First define some useful functions for plotting and testing\"\"\"\n",
    "from linalg.plotting import *"
   ],
   "metadata": {
    "collapsed": false,
    "pycharm": {
     "name": "#%%\n"
    }
   }
  },
  {
   "cell_type": "markdown",
   "source": [
    "## Exercise 1:\n",
    "In this part we implement and test the conjugate gradient algorithm.\n",
    "In the cell below a version of the conjugate gradiant algorithm working directly on the grid is implemnted."
   ],
   "metadata": {
    "collapsed": false
   }
  },
  {
   "cell_type": "code",
   "execution_count": null,
   "metadata": {
    "collapsed": true
   },
   "outputs": [],
   "source": [
    "from linalg.iterative import cg"
   ]
  },
  {
   "cell_type": "markdown",
   "source": [
    "In the cell below the test problem for exercise 1 is implemented.\n",
    "Here we also define the discrete laplacian which will be used in the rest of the exercises."
   ],
   "metadata": {
    "collapsed": false,
    "pycharm": {
     "name": "#%% md\n"
    }
   }
  },
  {
   "cell_type": "code",
   "execution_count": null,
   "outputs": [],
   "source": [
    "from test.case_poisson import CaseOne\n",
    "from linalg.laplacian import neg_discrete_laplacian"
   ],
   "metadata": {
    "collapsed": false,
    "pycharm": {
     "name": "#%%\n"
    }
   }
  },
  {
   "cell_type": "markdown",
   "source": [
    "We now use the test case to test the implementation of conjugate gradient.\n",
    "The tests are done with three different grid sizes where $N \\in [32, 64, 128]$.\n",
    "The solution and a plot of the convergence history of $\\frac{||r_k||_2}{||r_0||_2}$ is shown below,\n",
    "where $r_k$ is the residual after $k$ iterations.\n",
    "The convergence criterion $\\frac{||r_k||_2}{||r_0||_2} < 10^{-12}$ will be used in the rest of the algorithms as well."
   ],
   "metadata": {
    "collapsed": false,
    "pycharm": {
     "name": "#%% md\n"
    }
   }
  },
  {
   "cell_type": "code",
   "execution_count": null,
   "outputs": [],
   "source": [
    "N_list = [32, 64, 128]\n",
    "fig, axs = plt.subplots(ncols=len(N_list), sharey=True, figsize=(15, 5))\n",
    "fig.suptitle(\"Solution to first test problem (conjugate gradient)\")\n",
    "\n",
    "fig_conv, axs_conv = plt.subplots(1, figsize=(14, 5))\n",
    "axs_conv.set_ylabel(\"Convergence criterion\")\n",
    "axs_conv.set_xlabel(\"Iterations\")\n",
    "fig_conv.suptitle(\"Convergence history (conjugate gradient)\")\n",
    "axs_conv.grid()\n",
    "for i, N in enumerate(N_list):\n",
    "    rhs = CaseOne.get_rhs(N)\n",
    "    U_0 = CaseOne.get_u_0(N)\n",
    "    U_num, conv_hist = cg(A=neg_discrete_laplacian, x_0=U_0, rhs=rhs, N=N, tol=1e-12, maxiter=3000, conv_hist=True)\n",
    "    im = axs[i].imshow(U_num.T, origin=\"lower\", extent=[0, 1, 0, 1], label=f\"N={N}\", interpolation=None)\n",
    "\n",
    "    axs[0].set_ylabel(\"y\")\n",
    "    axs[i].set_xlabel(\"x\")\n",
    "    axs[i].set_title(f\"N={N}\")\n",
    "    axs_conv.semilogy(conv_hist, label=f\"N={N}\")\n",
    "\n",
    "fig.colorbar(im, ax=axs, orientation=\"horizontal\")\n",
    "plt.legend()"
   ],
   "metadata": {
    "collapsed": false,
    "pycharm": {
     "name": "#%%\n"
    }
   }
  },
  {
   "cell_type": "markdown",
   "source": [
    "**Remark:** Conjugate gradient did not converge with convergence criterion  $\\frac{||r_k||_2}{||r_0||_2} < 10^{-12}$.\n",
    "Resetting the algorithm every $N$ steps solved this problem.\n",
    "This problem could be caused by numerical instability since this SPD problem should be solved consistently by conjugate gradient.\n",
    "\n",
    "**Remark:** As instructed by the teaching assistant, a plot of the convergence history is shown instead of the 2-norm of the residual."
   ],
   "metadata": {
    "collapsed": false,
    "pycharm": {
     "name": "#%% md\n"
    }
   }
  },
  {
   "cell_type": "markdown",
   "source": [
    "##  Exercise 2\n",
    "In this part of the project we implement and test an implementation of V-cycle multigrid.\n",
    "We also investigate the number or V-cycles until convergence for different $N$.\n",
    "\n",
    "First we define the test problem used in this, and the next exercise:"
   ],
   "metadata": {
    "collapsed": false,
    "pycharm": {
     "name": "#%% md\n"
    }
   }
  },
  {
   "cell_type": "code",
   "execution_count": null,
   "outputs": [],
   "source": [
    "from test.case_poisson import CaseTwo"
   ],
   "metadata": {
    "collapsed": false,
    "pycharm": {
     "name": "#%%\n"
    }
   }
  },
  {
   "cell_type": "markdown",
   "source": [
    "Now we implement the multigrid algorithm. Note that only works for the poisson equation."
   ],
   "metadata": {
    "collapsed": false,
    "pycharm": {
     "name": "#%% md\n"
    }
   }
  },
  {
   "cell_type": "code",
   "execution_count": null,
   "outputs": [],
   "source": [
    "from linalg.multigrid import *"
   ],
   "metadata": {
    "collapsed": false,
    "pycharm": {
     "name": "#%%\n"
    }
   }
  },
  {
   "cell_type": "markdown",
   "source": [
    "We show the result of the first 5 applications of the multigrid solver."
   ],
   "metadata": {
    "collapsed": false,
    "pycharm": {
     "name": "#%% md\n"
    }
   }
  },
  {
   "cell_type": "code",
   "execution_count": null,
   "outputs": [],
   "source": [
    "title = \"Result after i iterations of multigrid to second test problem\"\n",
    "iterations = 5\n",
    "N = 2 ** iterations\n",
    "rhs = CaseTwo.get_rhs(N)\n",
    "U_0 = CaseTwo.get_u_0(N)\n",
    "fig = plot_first_iterations(iterations=iterations, method=mgv_minus_poisson, U_0=U_0, title=title, rhs=rhs, N=N, nu1=5,\n",
    "                            nu2=2, max_level=2)"
   ],
   "metadata": {
    "collapsed": false,
    "pycharm": {
     "name": "#%%\n"
    }
   }
  },
  {
   "cell_type": "markdown",
   "source": [
    "Plot convergence history of $N=2^5$ for the multigrid solver with 100 pre-smoothings and post-smoothings:"
   ],
   "metadata": {
    "collapsed": false
   }
  },
  {
   "cell_type": "code",
   "execution_count": null,
   "outputs": [],
   "source": [
    "fig = plot_convergence(method=multigrid_minus_poisson, title=\"Convergence history for $N=2^5$, $\\\\nu_1=\\\\nu_2=100$\",\n",
    "                       x_0=U_0, rhs=rhs, N=N,\n",
    "                       nu1=100, nu2=100, max_level=2)"
   ],
   "metadata": {
    "collapsed": false,
    "pycharm": {
     "name": "#%%\n"
    }
   }
  },
  {
   "cell_type": "markdown",
   "source": [
    "Plot convergence history of $N=2^5$ for the multigrid solver with 5 post-smoothings and 2 post-smoothings:"
   ],
   "metadata": {
    "collapsed": false
   }
  },
  {
   "cell_type": "code",
   "execution_count": null,
   "outputs": [],
   "source": [
    "fig = plot_convergence(method=multigrid_minus_poisson, title=\"Convergence history for $N=2^5$, $\\\\nu_1=5,\\\\nu_2=2$\",\n",
    "                       x_0=U_0, rhs=rhs, N=N,\n",
    "                       nu1=5, nu2=2, max_level=2)"
   ],
   "metadata": {
    "collapsed": false,
    "pycharm": {
     "name": "#%%\n"
    }
   }
  },
  {
   "cell_type": "markdown",
   "source": [
    "We now try the iterative multigrid solver on test problem 2 with grid size $N=2^L, L \\in [5,6,7,8,9,10]$.\n",
    "The number of iterations to convergence for each $L$ is shown below."
   ],
   "metadata": {
    "collapsed": false,
    "pycharm": {
     "name": "#%% md\n"
    }
   }
  },
  {
   "cell_type": "code",
   "execution_count": null,
   "outputs": [],
   "source": [
    "L_list = [5, 6, 7, 8, 9, 10]\n",
    "N_list = 2 ** np.array(L_list, dtype=np.int64)\n",
    "fig = plot_convergence_iters_to_convergence(method=multigrid_minus_poisson, case=CaseTwo, N_list=N_list, nu1=5, nu2=2,\n",
    "                                            max_level=2)"
   ],
   "metadata": {
    "collapsed": false,
    "pycharm": {
     "name": "#%%\n"
    }
   }
  },
  {
   "cell_type": "markdown",
   "source": [],
   "metadata": {
    "collapsed": false
   }
  },
  {
   "cell_type": "markdown",
   "source": [
    "We see that the number of iterations to convergence (almost) **does not increase with the size of the problem**.\n",
    "The number of V-cycles to convergence looks independent of the problem size; and for this problem it takes about 200-300 V-cycles to converge.\n",
    "This does not take into account the number of iterations for the conjugate gradient solver running in our multigrid implementation.\n",
    "For larger $N$ the conjugate gradient will have to solve a larger system which for this problem requires more iterations.\n",
    "It also takes significantly more time to solve the system when increasing $N$."
   ],
   "metadata": {
    "collapsed": false,
    "pycharm": {
     "name": "#%% md\n"
    }
   }
  },
  {
   "cell_type": "markdown",
   "source": [
    "## Exercise 3\n",
    "We implement conjugate gradient with multigrid as a preconditioner.\n",
    "To precondition conjugate gradient with a matrix $M$, the matrix must be **symmetric positive definite**.\n",
    "The reason $M$ must be SPD is that preconditioned conjugate gradient relies on $M$ defining an inner product as such:\n",
    "\n",
    "\\begin{equation}\n",
    "(x,y)_M = (Mx,y).\n",
    "\\end{equation}\n",
    "\n",
    "We know that $M$ can only define an inner product this way if it is SPD. Thus, the result follows.\n",
    "\n",
    "When using a multigrid V-cycle as a preconditioner we treat one V-cycle as a linear operator corresponding to $M^{-1}$.\n",
    "Thus, we must require that one application of a V-cycle is symmetric positive definite.\n",
    "We do not show that this is the case for our problem as it was not required.\n",
    "\n",
    "Multigrid preconditioned conjugate gradient is implemented in the cell below:"
   ],
   "metadata": {
    "collapsed": false,
    "pycharm": {
     "name": "#%% md\n",
     "is_executing": true
    }
   }
  },
  {
   "cell_type": "code",
   "execution_count": null,
   "outputs": [],
   "source": [
    "from linalg.preconditioned import *"
   ],
   "metadata": {
    "collapsed": false,
    "pycharm": {
     "name": "#%%\n"
    }
   }
  },
  {
   "cell_type": "markdown",
   "source": [
    "We show the result of the first 5 applications of the preconditioned solver:"
   ],
   "metadata": {
    "collapsed": false,
    "pycharm": {
     "name": "#%% md\n"
    }
   }
  },
  {
   "cell_type": "code",
   "execution_count": null,
   "outputs": [],
   "source": [
    "title = \"Result after i iterations of preconditioned cg to second test problem\"\n",
    "iterations = 5\n",
    "N = 2 ** iterations\n",
    "rhs = CaseTwo.get_rhs(N)\n",
    "U_0 = CaseTwo.get_u_0(N)\n",
    "fig = plot_first_iterations(iterations=iterations, method=mgv_conditioned_cg_minus_poisson, U_0=U_0, title=title,\n",
    "                            rhs=rhs, N=N, nu1=5,\n",
    "                            nu2=2, max_level=2)"
   ],
   "metadata": {
    "collapsed": false,
    "pycharm": {
     "name": "#%%\n"
    }
   }
  },
  {
   "cell_type": "markdown",
   "source": [
    "Plot convergence history of $N=2^5$ for the preconditioned conjugate gradient algorithm:"
   ],
   "metadata": {
    "collapsed": false
   }
  },
  {
   "cell_type": "code",
   "execution_count": null,
   "outputs": [],
   "source": [
    "fig = plot_convergence(method=mgv_conditioned_cg_minus_poisson, title=\"Convergence history for $N=2^5$\",\n",
    "                       x_0=U_0, rhs=rhs, N=N,\n",
    "                       nu1=100, nu2=100, max_level=2)"
   ],
   "metadata": {
    "collapsed": false,
    "pycharm": {
     "name": "#%%\n"
    }
   }
  },
  {
   "cell_type": "markdown",
   "source": [
    "Finally, we find the number of iterations to convergence for  different problem sizes $N=2^L, L \\in [5,6,7,8,9,10,11]$"
   ],
   "metadata": {
    "collapsed": false,
    "pycharm": {
     "name": "#%% md\n"
    }
   }
  },
  {
   "cell_type": "code",
   "execution_count": null,
   "outputs": [],
   "source": [
    "# Note: this takes a long time\n",
    "L_list = [5, 6, 7, 8, 9, 10, 11]\n",
    "N_list = 2 ** np.array(L_list, dtype=np.int64)\n",
    "fig = plot_convergence_iters_to_convergence(method=mgv_conditioned_cg_minus_poisson, case=CaseTwo, N_list=N_list, nu1=5,\n",
    "                                            nu2=2, max_level=2)"
   ],
   "metadata": {
    "collapsed": false,
    "pycharm": {
     "name": "#%%\n"
    }
   }
  },
  {
   "cell_type": "markdown",
   "source": [
    "From the numerical experiments above we observe that the number of iterations to reach convergence is similar to multigrid.\n",
    "The number of iterations needed to reach convergence seems constant after a sufficiently large problem is reached.\n",
    "The number of iterations needed to converge is the about 50\n",
    "\n"
   ],
   "metadata": {
    "collapsed": false,
    "pycharm": {
     "name": "#%% md\n"
    }
   }
  }
 ],
 "metadata": {
  "kernelspec": {
   "name": "python39464bit6f4582d7f8244682b91604cc5ffbb930",
   "language": "python",
   "display_name": "Python 3.9.4 64-bit"
  },
  "language_info": {
   "codemirror_mode": {
    "name": "ipython",
    "version": 2
   },
   "file_extension": ".py",
   "mimetype": "text/x-python",
   "name": "python",
   "nbconvert_exporter": "python",
   "pygments_lexer": "ipython2",
   "version": "2.7.6"
  }
 },
 "nbformat": 4,
 "nbformat_minor": 0
}