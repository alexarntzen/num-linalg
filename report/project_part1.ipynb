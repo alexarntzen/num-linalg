{
 "cells": [
  {
   "cell_type": "markdown",
   "source": [
    "#### TMA4205 Numerical Linear Algebra\n",
    "# Project Part 1\n",
    "## Intruduction\n",
    "\n",
    "In this project we solve the 2D Poisson equation\n",
    "\n",
    "\\begin{aligned}\n",
    "\\Delta u  &= f \\quad \\text{on} \\quad D = [0,1]^2 \\\\\n",
    "u &= g  \\quad \\text{on} \\quad \\partial D\n",
    "\\end{aligned}\n",
    "\n",
    "numerically. The equation is discretized as a finite difference scheme using the five point stencil.\n",
    "For each dimention we use $N+1$ nodes distance $h:=1/N$ from each other.\n",
    "\n",
    "The disretetization of the Poisson eqation results in a system of linear equations. We then solve the linear sytem by three different methods: conjugate gradient, multigrid and multigrid preconditioned conjugate gradient.\n",
    "Specificaly, a method working directly on the gridnodes will be used. Thus, we need not store the discrete Laplacian operator."
   ],
   "metadata": {
    "collapsed": false
   }
  },
  {
   "cell_type": "code",
   "source": [
    "\"\"\"First define some useful functions for plotting and testing\"\"\"\n",
    "%load_ext autoreload\n",
    "%autoreload 2\n",
    "# imports and useful functions\n",
    "from linalg.convergence import *"
   ],
   "metadata": {
    "collapsed": false,
    "pycharm": {
     "name": "#%%\n"
    }
   },
   "execution_count": null,
   "outputs": []
  },
  {
   "cell_type": "markdown",
   "source": [
    "## Exercise 1:\n",
    "In the cell below a version of the cponjugate gradiant algoritm working direclty onthe grid is implemented"
   ],
   "metadata": {
    "collapsed": false
   }
  },
  {
   "cell_type": "code",
   "execution_count": null,
   "metadata": {
    "collapsed": true
   },
   "outputs": [],
   "source": [
    "from linalg.iterative import cg"
   ]
  },
  {
   "cell_type": "markdown",
   "source": [
    "In the cell below the test problem for exercise 1 is implemented. Here we also define the discrete laplacian wich will be used in the rest of the exercises."
   ],
   "metadata": {
    "collapsed": false,
    "pycharm": {
     "name": "#%% md\n"
    }
   }
  },
  {
   "cell_type": "code",
   "execution_count": null,
   "outputs": [],
   "source": [
    "from test.case_one import CaseOne\n",
    "from linalg.laplacian import neg_discrete_laplacian"
   ],
   "metadata": {
    "collapsed": false,
    "pycharm": {
     "name": "#%%\n"
    }
   }
  },
  {
   "cell_type": "markdown",
   "source": [
    "We now use the test case to test the implementation of conjugate gradient.\n",
    "The tests are done with three grid sizes, where $N \\in [32, 64, 128]$. The solution and a plot of the convergence history of $\\frac{||r_k||_2}{||r_0||_2}$ is shown below."
   ],
   "metadata": {
    "collapsed": false,
    "pycharm": {
     "name": "#%% md\n"
    }
   }
  },
  {
   "cell_type": "code",
   "execution_count": null,
   "outputs": [],
   "source": [
    "N_list = [32, 64, 128]\n",
    "\n",
    "fig, axs = plt.subplots(ncols=len(N_list), sharey=True, figsize=(5 * len(N_list), 5))\n",
    "fig.suptitle(\"Solution to first test pro (conjugate gradient)\")\n",
    "\n",
    "fig_conv, axs_conv = plt.subplots(1, figsize=(14, 5))\n",
    "axs_conv.set_ylabel(\"Convergence criterion\")\n",
    "axs_conv.set_xlabel(\"Iterations\")\n",
    "fig_conv.suptitle(\"Convergence history (conjugate gradient)\")\n",
    "\n",
    "for i, N in enumerate(N_list):\n",
    "    rhs = CaseOne.get_rhs(N)\n",
    "    U_0 = CaseOne.get_u_0(N)\n",
    "    U_num, conv_hist = cg(A=neg_discrete_laplacian, x_0=U_0, rhs=rhs, N=N, tol=1e-12, maxiter=3000, conv_hist=True)\n",
    "    im = axs[i].imshow(U_num.T, origin=\"lower\", extent=[0, 1, 0, 1], label=f\"N={N}\")\n",
    "\n",
    "    axs[0].set_ylabel(\"y\")\n",
    "    axs[i].set_xlabel(\"x\")\n",
    "    axs[i].set_title(f\"N={N}\")\n",
    "    axs_conv.semilogy(conv_hist, label=f\"N={N}\")\n",
    "\n",
    "fig.colorbar(im, ax=axs, orientation=\"horizontal\")\n",
    "plt.legend()\n"
   ],
   "metadata": {
    "collapsed": false,
    "pycharm": {
     "name": "#%%\n"
    }
   }
  },
  {
   "cell_type": "markdown",
   "source": [
    "**Remark:** Conjugate gradient did not converge with convergence criterion  $\\frac{||r_k||_2}{||r_0||_2} < 10^{-12}$.\n",
    "Therefore the algoritm resets $p$ and $r$ if statgnation is noticed.\n",
    "\n",
    "**Remark:** As instructed by the teaching assistant, a plot of the convergence history is shown instead of the 2-norm of the residual."
   ],
   "metadata": {
    "collapsed": false,
    "pycharm": {
     "name": "#%% md\n"
    }
   }
  },
  {
   "cell_type": "markdown",
   "source": [
    "##  Exercise 2\n",
    "Define problem two for the rest of the exercises."
   ],
   "metadata": {
    "collapsed": false,
    "pycharm": {
     "name": "#%% md\n"
    }
   }
  },
  {
   "cell_type": "code",
   "execution_count": null,
   "outputs": [],
   "source": [
    "from test.case_two import CaseTwo"
   ],
   "metadata": {
    "collapsed": false,
    "pycharm": {
     "name": "#%%\n"
    }
   }
  },
  {
   "cell_type": "markdown",
   "source": [
    "Implementation of multigrid:"
   ],
   "metadata": {
    "collapsed": false,
    "pycharm": {
     "name": "#%% md\n"
    }
   }
  },
  {
   "cell_type": "code",
   "execution_count": null,
   "outputs": [],
   "source": [
    "from linalg.multigrid import *"
   ],
   "metadata": {
    "collapsed": false,
    "pycharm": {
     "name": "#%%\n"
    }
   }
  },
  {
   "cell_type": "markdown",
   "source": [
    "We show the result of the first 5 applications of the multigrid solver."
   ],
   "metadata": {
    "collapsed": false,
    "pycharm": {
     "name": "#%% md\n"
    }
   }
  },
  {
   "cell_type": "code",
   "execution_count": null,
   "outputs": [],
   "source": [
    "title = \"Result after i iterations of multigrid to second test problem\"\n",
    "iterations = 5\n",
    "N = 2 ** iterations\n",
    "rhs = CaseTwo.get_rhs(N)\n",
    "U_0 = CaseTwo.get_u_0(N)\n",
    "fig =plot_first_iterations(iterations=iterations, method=mgv_minus_poisson,U_0=U_0, title=title,rhs=rhs, N=N, nu1=2, nu2=2, level=0, max_level=iterations )\n",
    "# plt.legend()"
   ],
   "metadata": {
    "collapsed": false,
    "pycharm": {
     "name": "#%%\n"
    }
   }
  },
  {
   "cell_type": "markdown",
   "source": [
    "Plot convergence history of $N=2^5$ for the multigrid solver:"
   ],
   "metadata": {
    "collapsed": false
   }
  },
  {
   "cell_type": "code",
   "execution_count": null,
   "outputs": [],
   "source": [
    "fig = plot_convergence(method=multigrid_minus_poisson, title=\"Convergence history for $N=2^5$\", x_0=U_0, rhs=rhs, N=N,\n",
    "                       nu1=2, nu2=2, level=0, max_level=iterations)"
   ],
   "metadata": {
    "collapsed": false,
    "pycharm": {
     "name": "#%%\n"
    }
   }
  },
  {
   "cell_type": "markdown",
   "source": [
    "We now try the iterative multigrid solver on test problem 2 with grid size $N=2^L, L \\in [5,6,7,8,9,10]$. The number of iterations to convergence for each $L$ is shwon below."
   ],
   "metadata": {
    "collapsed": false,
    "pycharm": {
     "name": "#%% md\n"
    }
   }
  },
  {
   "cell_type": "code",
   "execution_count": null,
   "outputs": [],
   "source": [
    "L_list = [5, 6,7,8, 9]\n",
    "N_list = 2**np.array(L_list, dtype=np.int64)\n",
    "print(N_list)\n",
    "fig = plot_convergence_iters_to_convergence(method=multigrid_minus_poisson, case=CaseTwo, N_list=N_list,nu1=2, nu2=1, max_level=2)\n",
    "\n",
    "\n"
   ],
   "metadata": {
    "collapsed": false,
    "pycharm": {
     "name": "#%%\n"
    }
   }
  },
  {
   "cell_type": "markdown",
   "source": [
    "## Exercise 3\n",
    "We implement conjugate gradient with multigrid as a preconditioner. For this to work with conjugate gradient an iteration of multigrid must be postitive definite.\n",
    "(This is explained in the book) TODO: Elaborate\n",
    "\n",
    "Implementaion of multigrid prconditioned conjugate gradient:"
   ],
   "metadata": {
    "collapsed": false,
    "pycharm": {
     "name": "#%% md\n",
     "is_executing": true
    }
   }
  },
  {
   "cell_type": "code",
   "execution_count": null,
   "outputs": [],
   "source": [
    "from linalg.preconditioned import *"
   ],
   "metadata": {
    "collapsed": false,
    "pycharm": {
     "name": "#%%\n"
    }
   }
  },
  {
   "cell_type": "markdown",
   "source": [
    "Find number of iterations to convergence different problem sizes:"
   ],
   "metadata": {
    "collapsed": false,
    "pycharm": {
     "name": "#%% md\n"
    }
   }
  },
  {
   "cell_type": "code",
   "execution_count": null,
   "outputs": [],
   "source": [
    "L_list = [5, 6,7,8,9]\n",
    "N_list = 2**np.array(L_list, dtype=np.int64)\n",
    "print(N_list)\n",
    "fig = plot_convergence_iters_to_convergence(method=mgv_conditioned_cg_minus_poisson, case=CaseTwo, N_list=N_list,nu1=2, nu2=3)\n",
    "\n"
   ],
   "metadata": {
    "collapsed": false,
    "pycharm": {
     "name": "#%%\n"
    }
   }
  },
  {
   "cell_type": "code",
   "execution_count": null,
   "outputs": [],
   "source": [],
   "metadata": {
    "collapsed": false,
    "pycharm": {
     "name": "#%%\n"
    }
   }
  }
 ],
 "metadata": {
  "kernelspec": {
   "display_name": "Python 3",
   "language": "python",
   "name": "python3"
  },
  "language_info": {
   "codemirror_mode": {
    "name": "ipython",
    "version": 2
   },
   "file_extension": ".py",
   "mimetype": "text/x-python",
   "name": "python",
   "nbconvert_exporter": "python",
   "pygments_lexer": "ipython2",
   "version": "2.7.6"
  }
 },
 "nbformat": 4,
 "nbformat_minor": 0
}